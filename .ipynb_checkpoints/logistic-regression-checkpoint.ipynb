{
 "cells": [
  {
   "cell_type": "code",
   "execution_count": 1,
   "metadata": {},
   "outputs": [],
   "source": [
    "import matplotlib.pyplot as plt\n",
    "import numpy as np\n",
    "import torch\n",
    "from torch.autograd import Variable\n",
    "import torch.nn.functional as F"
   ]
  },
  {
   "cell_type": "code",
   "execution_count": 2,
   "metadata": {},
   "outputs": [],
   "source": [
    "data = np.loadtxt('data.txt', delimiter=',')\n",
    "data = data.astype('float32')"
   ]
  },
  {
   "cell_type": "code",
   "execution_count": 3,
   "metadata": {},
   "outputs": [],
   "source": [
    "data = data / data.max(0)"
   ]
  },
  {
   "cell_type": "code",
   "execution_count": 4,
   "metadata": {},
   "outputs": [],
   "source": [
    "x1 = data[data[:, 2] == 1]\n",
    "x0 = data[data[:, 2] == 0]"
   ]
  },
  {
   "cell_type": "code",
   "execution_count": 5,
   "metadata": {},
   "outputs": [],
   "source": [
    "p_x1, p_y1 = x1[:, 0], x1[:, 1]\n",
    "p_x0, p_y0 = x0[:, 0], x0[:, 1]"
   ]
  },
  {
   "cell_type": "code",
   "execution_count": 6,
   "metadata": {},
   "outputs": [
    {
     "data": {
      "text/plain": [
       "[<matplotlib.lines.Line2D at 0x7f4f30299b38>]"
      ]
     },
     "execution_count": 6,
     "metadata": {},
     "output_type": "execute_result"
    },
    {
     "data": {
      "image/png": "[encoded data removed]",
      "text/plain": [
       "<Figure size 432x288 with 1 Axes>"
      ]
     },
     "metadata": {
      "needs_background": "light"
     },
     "output_type": "display_data"
    }
   ],
   "source": [
    "plt.plot(p_x1, p_y1, 'bo', label='x_1')\n",
    "plt.plot(p_x0, p_y0, 'ro', label='x_0')"
   ]
  },
  {
   "cell_type": "code",
   "execution_count": 7,
   "metadata": {},
   "outputs": [],
   "source": [
    "x_data = torch.from_numpy(data[:, :2]).float()\n",
    "y_data = torch.from_numpy(data[:, -1]).float().unsqueeze(1)"
   ]
  },
  {
   "cell_type": "code",
   "execution_count": 8,
   "metadata": {},
   "outputs": [
    {
     "name": "stdout",
     "output_type": "stream",
     "text": [
      "torch.Size([100, 1])\n"
     ]
    }
   ],
   "source": [
    "print(y_data.size())"
   ]
  },
  {
   "cell_type": "code",
   "execution_count": 9,
   "metadata": {},
   "outputs": [],
   "source": [
    "x_data = Variable(x_data)\n",
    "y_data = Variable(y_data)"
   ]
  },
  {
   "cell_type": "code",
   "execution_count": 10,
   "metadata": {},
   "outputs": [],
   "source": [
    "w = Variable(torch.randn(2, 1), requires_grad=True) \n",
    "b = Variable(torch.randn(1), requires_grad=True)\n",
    "\n",
    "def logistic_regression(x):\n",
    "    return torch.sigmoid(torch.mm(x, w) + b)"
   ]
  },
  {
   "cell_type": "code",
   "execution_count": 11,
   "metadata": {},
   "outputs": [
    {
     "data": {
      "text/plain": [
       "<matplotlib.legend.Legend at 0x7f4f3019c048>"
      ]
     },
     "execution_count": 11,
     "metadata": {},
     "output_type": "execute_result"
    },
    {
     "data": {
      "image/png": "[encoded data removed]",
      "text/plain": [
       "<Figure size 432x288 with 1 Axes>"
      ]
     },
     "metadata": {
      "needs_background": "light"
     },
     "output_type": "display_data"
    }
   ],
   "source": [
    "w0 = w[0].data[0].numpy()\n",
    "w1 = w[1].data[0].numpy()\n",
    "b0 = b.data.numpy()\n",
    "\n",
    "plot_x1 = np.arange(0.2, 1, 0.01)\n",
    "plot_x2 = (-b0 - w0 * plot_x1) / w1 #w0*x0 + w1*x1 + b0 = 0 是决策面\n",
    "\n",
    "plt.plot(plot_x1, plot_x2, 'g', label='cutting line')\n",
    "plt.plot(p_x1, p_y1, 'bo', label='x_1')\n",
    "plt.plot(p_x0, p_y0, 'ro', label='x_0')\n",
    "plt.legend(loc='best')"
   ]
  },
  {
   "cell_type": "code",
   "execution_count": 18,
   "metadata": {},
   "outputs": [],
   "source": [
    "def binary_loss(y_pred, y):\n",
    "    # clamp 规定上下限\n",
    "    logits = (y * y_pred.clamp(1e-12).log() + (1-y) * (1-y_pred).clamp(1e-12).log()).mean()\n",
    "    return -logits"
   ]
  },
  {
   "cell_type": "code",
   "execution_count": 19,
   "metadata": {},
   "outputs": [
    {
     "name": "stdout",
     "output_type": "stream",
     "text": [
      "tensor(0.8381, grad_fn=<NegBackward>)\n"
     ]
    }
   ],
   "source": [
    "y_pred = logistic_regression(x_data)\n",
    "loss = binary_loss(y_pred, y_data)\n",
    "print(loss)"
   ]
  },
  {
   "cell_type": "code",
   "execution_count": 20,
   "metadata": {},
   "outputs": [
    {
     "name": "stdout",
     "output_type": "stream",
     "text": [
      "tensor(0.8282, grad_fn=<NegBackward>)\n"
     ]
    }
   ],
   "source": [
    "loss.backward()\n",
    "\n",
    "w.data -= w.grad.data * 0.1\n",
    "b.data -= b.grad.data * 0.1\n",
    "\n",
    "y_pred = logistic_regression(x_data)\n",
    "loss = binary_loss(y_pred, y_data)\n",
    "print(loss)"
   ]
  },
  {
   "cell_type": "code",
   "execution_count": 21,
   "metadata": {},
   "outputs": [],
   "source": [
    "# nn.Parameter 默认是求梯度的, Variable 默认是不求梯度的"
   ]
  },
  {
   "cell_type": "code",
   "execution_count": 24,
   "metadata": {},
   "outputs": [],
   "source": [
    "from torch import nn\n",
    "w = nn.Parameter(torch.randn(2, 1))\n",
    "b = nn.Parameter(torch.randn(1))\n",
    "\n",
    "def logistic_regression(x):\n",
    "    return torch.sigmoid(torch.mm(x, w) + b)\n",
    "\n",
    "optimizer = torch.optim.SGD([w, b], lr=1.)"
   ]
  },
  {
   "cell_type": "code",
   "execution_count": 37,
   "metadata": {},
   "outputs": [
    {
     "name": "stdout",
     "output_type": "stream",
     "text": [
      "epoch: 200, loss:0.22093, Acc:0.000000\n",
      "epoch: 400, loss:0.21913, Acc:0.000000\n",
      "epoch: 600, loss:0.21757, Acc:0.000000\n",
      "epoch: 800, loss:0.21622, Acc:0.000000\n",
      "epoch: 1000, loss:0.21503, Acc:0.000000\n",
      "During Time: 0.380 s\n"
     ]
    }
   ],
   "source": [
    "import time \n",
    "start = time.time()\n",
    "\n",
    "for i in range(1000):\n",
    "    y_pred = logistic_regression(x_data)\n",
    "    loss = binary_loss(y_pred, y_data)\n",
    "    \n",
    "    optimizer.zero_grad()\n",
    "    loss.backward()\n",
    "    optimizer.step()\n",
    "    \n",
    "    mask = y_pred.ge(0.5).float()\n",
    "    \n",
    "    acc = (mask == y_data).sum().data / y_data.shape[0]\n",
    "#     print(\"i\", i)\n",
    "    if (i  + 1) % 200 == 0:\n",
    "        print('epoch: {}, loss:{:.5f}, Acc:{:5f}'.format(i+1, loss, acc))\n",
    "        \n",
    "during = time.time() - start\n",
    "\n",
    "print(\"During Time: {:.3f} s\".format(during))   \n",
    "    "
   ]
  },
  {
   "cell_type": "code",
   "execution_count": 38,
   "metadata": {},
   "outputs": [
    {
     "data": {
      "text/plain": [
       "<matplotlib.legend.Legend at 0x7f4f30070dd8>"
      ]
     },
     "execution_count": 38,
     "metadata": {},
     "output_type": "execute_result"
    },
    {
     "data": {
      "image/png": "[encoded data removed]",
      "text/plain": [
       "<Figure size 432x288 with 1 Axes>"
      ]
     },
     "metadata": {
      "needs_background": "light"
     },
     "output_type": "display_data"
    }
   ],
   "source": [
    "w0 = w[0].data[0].numpy()\n",
    "w1 = w[1].data[0].numpy()\n",
    "b0 = b.data.numpy()\n",
    "\n",
    "plot_x1 = np.arange(0.2, 1, 0.01)\n",
    "plot_x2 = (-b0 - w0 * plot_x1) / w1 #w0*x0 + w1*x1 + b0 = 0 是决策面\n",
    "\n",
    "plt.plot(plot_x1, plot_x2, 'g', label='cutting line')\n",
    "plt.plot(p_x1, p_y1, 'bo', label='x_1')\n",
    "plt.plot(p_x0, p_y0, 'ro', label='x_0')\n",
    "plt.legend(loc='best')"
   ]
  },
  {
   "cell_type": "code",
   "execution_count": 41,
   "metadata": {},
   "outputs": [],
   "source": [
    "criterion = nn.BCEWithLogitsLoss()\n",
    "\n",
    "w = nn.Parameter(torch.randn(2,1))\n",
    "b = nn.Parameter(torch.randn(1))\n",
    "\n",
    "def logistic_regression(x):\n",
    "    return torch.mm(x, w) + b\n",
    "optimizer = torch.optim.SGD([w, b], lr=0.1)"
   ]
  },
  {
   "cell_type": "code",
   "execution_count": 42,
   "metadata": {},
   "outputs": [
    {
     "name": "stdout",
     "output_type": "stream",
     "text": [
      "tensor(0.7224)\n"
     ]
    }
   ],
   "source": [
    "y_pred = logistic_regression(x_data)\n",
    "loss =criterion(y_pred, y_data)\n",
    "print(loss.data)"
   ]
  },
  {
   "cell_type": "code",
   "execution_count": 43,
   "metadata": {},
   "outputs": [
    {
     "name": "stdout",
     "output_type": "stream",
     "text": [
      "epoch: 200, loss:0.63549, Acc:0.000000\n",
      "epoch: 400, loss:0.59115, Acc:0.000000\n",
      "epoch: 600, loss:0.55392, Acc:0.000000\n",
      "epoch: 800, loss:0.52250, Acc:0.000000\n",
      "epoch: 1000, loss:0.49580, Acc:0.000000\n",
      "During Time: 0.328 s\n"
     ]
    }
   ],
   "source": [
    "start = time.time()\n",
    "\n",
    "for i in range(1000):\n",
    "    y_pred = logistic_regression(x_data)\n",
    "    loss = criterion(y_pred, y_data)\n",
    "    \n",
    "    optimizer.zero_grad()\n",
    "    loss.backward()\n",
    "    optimizer.step()\n",
    "    \n",
    "    mask = y_pred.ge(0.5).float()\n",
    "    \n",
    "    acc = (mask == y_data).sum().data / y_data.shape[0]\n",
    "#     print(\"i\", i)\n",
    "    if (i  + 1) % 200 == 0:\n",
    "        print('epoch: {}, loss:{:.5f}, Acc:{:5f}'.format(i+1, loss, acc))\n",
    "        \n",
    "during = time.time() - start\n",
    "\n",
    "print(\"During Time: {:.3f} s\".format(during))   "
   ]
  },
  {
   "cell_type": "code",
   "execution_count": null,
   "metadata": {},
   "outputs": [],
   "source": []
  }
 ],
 "metadata": {
  "kernelspec": {
   "display_name": "Python 3",
   "language": "python",
   "name": "python3"
  },
  "language_info": {
   "codemirror_mode": {
    "name": "ipython",
    "version": 3
   },
   "file_extension": ".py",
   "mimetype": "text/x-python",
   "name": "python",
   "nbconvert_exporter": "python",
   "pygments_lexer": "ipython3",
   "version": "3.6.3"
  }
 },
 "nbformat": 4,
 "nbformat_minor": 2
}
